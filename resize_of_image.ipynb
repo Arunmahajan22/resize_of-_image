{
 "cells": [
  {
   "cell_type": "code",
   "execution_count": 1,
   "id": "eeb97a83-334e-45f9-af9d-e6ac7c4d1571",
   "metadata": {},
   "outputs": [
    {
     "name": "stdout",
     "output_type": "stream",
     "text": [
      "Resized E:\\input_images\\th.jpeg to 172x152 successfully.\n"
     ]
    }
   ],
   "source": [
    "import cv2\n",
    "import os\n",
    "\n",
    "# Function to resize an image\n",
    "def resize_image(input_path, output_path, scale_percent):\n",
    "    try:\n",
    "        # Read the image\n",
    "        image = cv2.imread(input_path)\n",
    "        \n",
    "        # Get original image dimensions\n",
    "        width = int(image.shape[1] * scale_percent / 100)\n",
    "        height = int(image.shape[0] * scale_percent / 100)\n",
    "        \n",
    "        # Resize image\n",
    "        resized_image = cv2.resize(image, (width, height), interpolation=cv2.INTER_AREA)\n",
    "        \n",
    "        # Write the resized image\n",
    "        cv2.imwrite(output_path, resized_image)\n",
    "        \n",
    "        print(f\"Resized {input_path} to {width}x{height} successfully.\")\n",
    "        \n",
    "    except Exception as e:\n",
    "        print(f\"Error resizing {input_path}: {str(e)}\")\n",
    "\n",
    "# Directory containing the original images\n",
    "input_directory = r\"E:\\input_images\"\n",
    "\n",
    "# Directory to save the resized images\n",
    "output_directory = \"resized_images\"\n",
    "\n",
    "# Create output directory if it doesn't exist\n",
    "os.makedirs(output_directory, exist_ok=True)\n",
    "\n",
    "# List all files in the input directory\n",
    "files = os.listdir(input_directory)\n",
    "\n",
    "# Scaling factor (50% reduction)\n",
    "scale_percent = 50\n",
    "\n",
    "# Process each image file\n",
    "for file in files:\n",
    "    # Check if the file is an image (you may want to add more robust checks)\n",
    "    if file.endswith(\".jpg\") or file.endswith(\".jpeg\") or file.endswith(\".png\"):\n",
    "        # Construct input and output paths\n",
    "        input_path = os.path.join(input_directory, file)\n",
    "        output_path = os.path.join(output_directory, file)\n",
    "        \n",
    "        # Resize image and save\n",
    "        resize_image(input_path, output_path, scale_percent)\n"
   ]
  },
  {
   "cell_type": "code",
   "execution_count": null,
   "id": "f4c7976a-b0cd-4a12-83d7-cbc8ffd79f39",
   "metadata": {},
   "outputs": [],
   "source": []
  }
 ],
 "metadata": {
  "kernelspec": {
   "display_name": "Python 3 (ipykernel)",
   "language": "python",
   "name": "python3"
  },
  "language_info": {
   "codemirror_mode": {
    "name": "ipython",
    "version": 3
   },
   "file_extension": ".py",
   "mimetype": "text/x-python",
   "name": "python",
   "nbconvert_exporter": "python",
   "pygments_lexer": "ipython3",
   "version": "3.12.1"
  }
 },
 "nbformat": 4,
 "nbformat_minor": 5
}
